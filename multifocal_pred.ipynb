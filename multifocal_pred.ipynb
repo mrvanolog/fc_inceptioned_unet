{
 "cells": [
  {
   "cell_type": "code",
   "execution_count": null,
   "metadata": {},
   "outputs": [],
   "source": [
    "import torch\n",
    "from torch import nn\n",
    "import numpy as np\n",
    "from pathlib import Path\n",
    "from torch.utils import data\n",
    "import torchvision.transforms as transforms\n",
    "import matplotlib.pyplot as plt\n",
    "import matplotlib.colors as colors\n",
    "import wandb\n",
    "# from torchsummary import summary\n",
    "from skimage.io import imread\n",
    "import cv2\n",
    "\n",
    "from models.incept_unet import InceptionedUNet\n",
    "from datasets.blastocyst import SFUDataset, ClinicMultifocalDataset\n",
    "from utils.trainer import Trainer\n",
    "from utils.losses import DicePlusBCELoss\n",
    "\n",
    "device = 'cuda:0' if torch.cuda.is_available() else 'cpu'\n",
    "print(device)"
   ]
  },
  {
   "cell_type": "code",
   "execution_count": null,
   "metadata": {},
   "outputs": [],
   "source": [
    "def find_convexHull(pred) -> list:\n",
    "    # apply binary thresholding\n",
    "    ret, thresh = cv2.threshold(pred.astype(np.uint8), 0.5, 255, cv2.THRESH_BINARY)\n",
    "    # Finding contours for the thresholded image\n",
    "    contours, hierarchy = cv2.findContours(thresh, cv2.RETR_TREE, cv2.CHAIN_APPROX_SIMPLE)\n",
    "\n",
    "    # find the position of the longest contour\n",
    "    contour_lengths = [len(c) for c in contours]\n",
    "    try:\n",
    "        i = np.argmax(contour_lengths)\n",
    "    except ValueError:\n",
    "        return []\n",
    "\n",
    "    # creating convex hull object for longest contour\n",
    "    hull = cv2.convexHull(contours[i], False)\n",
    "\n",
    "    return [hull]"
   ]
  },
  {
   "cell_type": "code",
   "execution_count": null,
   "metadata": {},
   "outputs": [],
   "source": [
    "def calc_thresh(preds, thresh):\n",
    "    return (preds > thresh).float() * 1"
   ]
  },
  {
   "cell_type": "code",
   "execution_count": null,
   "metadata": {},
   "outputs": [],
   "source": [
    "# 288 for 6 blocks\n",
    "# 272 for 5 and less\n",
    "IMG_SIZE = 288\n",
    "TRANSFORM = transforms.Compose([transforms.Resize(IMG_SIZE), transforms.CenterCrop(IMG_SIZE)])\n",
    "SFU_MASK = 'all'\n",
    "CLINIC_MASK = 'random'"
   ]
  },
  {
   "cell_type": "code",
   "execution_count": null,
   "metadata": {},
   "outputs": [],
   "source": [
    "# clinic data\n",
    "clinic = Path('/datasets/clinic_multifocal')\n",
    "# sfu data\n",
    "sfu = Path('/datasets/sfu/BlastsOnline')"
   ]
  },
  {
   "cell_type": "code",
   "execution_count": null,
   "metadata": {},
   "outputs": [],
   "source": [
    "dataset = ClinicMultifocalDataset(clinic, use_augmentations=False, mask='all',\n",
    "                                   transform=TRANSFORM, use_circle_mask=True)\n",
    "dataloader = data.DataLoader(dataset=dataset, batch_size=1, shuffle=False)"
   ]
  },
  {
   "cell_type": "code",
   "execution_count": null,
   "metadata": {},
   "outputs": [],
   "source": [
    "c_white = colors.colorConverter.to_rgba('white',alpha = 0)\n",
    "c_red= colors.colorConverter.to_rgba('red', alpha = 1)\n",
    "cmap_red = colors.LinearSegmentedColormap.from_list('rb_cmap', [c_white,c_red], 512)"
   ]
  },
  {
   "cell_type": "code",
   "execution_count": null,
   "metadata": {},
   "outputs": [],
   "source": [
    "x, _ = next(iter(dataloader))\n",
    "\n",
    "print(f'x = shape: {x.shape}; type: {x.dtype}')\n",
    "print(f'x = min: {x.min()}; max: {x.max()}')\n",
    "\n",
    "for j in range(x.shape[0]):\n",
    "    f, axarr = plt.subplots(1, 11, figsize=(25, 15))\n",
    "    for i in range(11):\n",
    "        axarr[i].imshow(x[j][i])\n",
    "    plt.show()"
   ]
  },
  {
   "cell_type": "code",
   "execution_count": null,
   "metadata": {},
   "outputs": [],
   "source": [
    "incept_unet_save_path = Path('PLACE_HOLDER')"
   ]
  },
  {
   "cell_type": "code",
   "execution_count": null,
   "metadata": {},
   "outputs": [],
   "source": [
    "incept_unet = torch.load(incept_unet_save_path)\n",
    "incept_unet.to(device)\n",
    "None"
   ]
  },
  {
   "cell_type": "code",
   "execution_count": null,
   "metadata": {},
   "outputs": [],
   "source": [
    "thresh = 0.55\n",
    "mean_score = False\n",
    "plot = False\n",
    "display_name = True\n",
    "focals = [-75, -60, -45, -30, -15, 0, 15, 30, 45, 60, 75]"
   ]
  },
  {
   "cell_type": "code",
   "execution_count": null,
   "metadata": {},
   "outputs": [],
   "source": [
    "incept_unet.eval()\n",
    "\n",
    "preds_icm = {}\n",
    "for x, name in dataloader:\n",
    "    with torch.no_grad():\n",
    "        input = x.to(device)\n",
    "\n",
    "        user_id = name[0].split('_')[0]\n",
    "        preds_icm[user_id] = {}\n",
    "        for i in range(x.shape[1]):\n",
    "            preds = incept_unet(input[None, :, i, :, :])\n",
    "            preds_thresh = (preds > thresh).float() * 1\n",
    "\n",
    "            preds_icm[user_id][focals[i]] = (x[0][i], preds_thresh[0, 0, :, :].cpu().numpy())\n",
    "\n",
    "            if not plot:\n",
    "                continue\n",
    "\n",
    "            f, axarr = plt.subplots(1, 3, figsize = (11, 4))\n",
    "            axarr[0].imshow(x[0][i])\n",
    "            axarr[1].imshow(preds[0].cpu().permute(1, 2, 0))\n",
    "            axarr[2].imshow(preds_thresh[0].cpu().permute(1, 2, 0))\n",
    "\n",
    "            title = ''\n",
    "            if display_name:\n",
    "                title = f'{name[0]}_{focals[i]}'\n",
    "            f.suptitle(title)\n",
    "            axarr[0].set_title('Image')\n",
    "            axarr[1].set_title('Prediction')\n",
    "            axarr[2].set_title(f'Prediction with Threshold ({thresh})')\n",
    "            plt.show()\n",
    "            print('---------------------'*3)"
   ]
  },
  {
   "cell_type": "code",
   "execution_count": null,
   "metadata": {},
   "outputs": [],
   "source": [
    "overlap = True\n",
    "\n",
    "for key, value in preds_icm.items():\n",
    "    fig, axarr = plt.subplots(2, 11, figsize=(30, 5))\n",
    "\n",
    "    print(key)\n",
    "    for i, f in enumerate(focals):\n",
    "        x = value[f][0]\n",
    "        pred = value[f][1]\n",
    "        hull = find_convexHull(pred)\n",
    "\n",
    "        if overlap:\n",
    "            axarr[0][i].imshow(x, cmap='gray')\n",
    "            axarr[0][i].imshow(pred, cmap=cmap_red, alpha=0.4)\n",
    "            drawing = x.numpy().copy()\n",
    "            cv2.drawContours(drawing, hull, -1, (1, 1, 1), 3)\n",
    "        else:\n",
    "            axarr[0][i].imshow(pred)\n",
    "            drawing = np.zeros((x.shape[0], x.shape[1], 1), np.uint8)\n",
    "            cv2.drawContours(drawing, hull, -1, 1, 2)\n",
    "        axarr[0][i].set_title(f)\n",
    "\n",
    "        axarr[1][i].imshow(drawing, cmap='gray')\n",
    "    plt.show()"
   ]
  }
 ],
 "metadata": {
  "kernelspec": {
   "display_name": "Python 3.8.10 64-bit",
   "language": "python",
   "name": "python3"
  },
  "language_info": {
   "codemirror_mode": {
    "name": "ipython",
    "version": 3
   },
   "file_extension": ".py",
   "mimetype": "text/x-python",
   "name": "python",
   "nbconvert_exporter": "python",
   "pygments_lexer": "ipython3",
   "version": "3.8.10"
  },
  "orig_nbformat": 4,
  "vscode": {
   "interpreter": {
    "hash": "31f2aee4e71d21fbe5cf8b01ff0e069b9275f58929596ceb00d14d90e3e16cd6"
   }
  }
 },
 "nbformat": 4,
 "nbformat_minor": 2
}

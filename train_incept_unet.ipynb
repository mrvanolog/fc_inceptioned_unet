{
 "cells": [
  {
   "cell_type": "code",
   "execution_count": null,
   "metadata": {},
   "outputs": [],
   "source": [
    "import torch\n",
    "from torch import nn\n",
    "import numpy as np\n",
    "from pathlib import Path\n",
    "from torch.utils import data\n",
    "import torchvision.transforms as transforms\n",
    "import matplotlib.pyplot as plt\n",
    "import matplotlib.colors as colors\n",
    "import matplotlib.patches as mpatches\n",
    "import wandb\n",
    "from torchsummary import summary\n",
    "from skimage.io import imread\n",
    "\n",
    "from models.incept_unet import InceptionedUNet\n",
    "from datasets.blastocyst import SFUDataset, ClinicDataset\n",
    "from utils.trainer import Trainer\n",
    "from utils.losses import DicePlusBCELoss\n",
    "\n",
    "device = 'cuda:0' if torch.cuda.is_available() else 'cpu'\n",
    "print(device)"
   ]
  },
  {
   "cell_type": "code",
   "execution_count": null,
   "metadata": {},
   "outputs": [],
   "source": [
    "IMG_SIZE = 288\n",
    "ADD_MASKS = True\n",
    "TRANSFORM = transforms.Compose([transforms.Resize(IMG_SIZE), transforms.CenterCrop(IMG_SIZE)])\n",
    "SFU_MASK = 'all'\n",
    "CLINIC_MASK = 'random'"
   ]
  },
  {
   "cell_type": "code",
   "execution_count": null,
   "metadata": {},
   "outputs": [],
   "source": [
    "batch_size = 30\n",
    "n_epochs = 350\n",
    "n_blocks = 6\n",
    "channels_out = 5\n",
    "lr = 5e-5\n",
    "start_filters = 32\n",
    "dice_weight = 0.5\n",
    "smooth = 5"
   ]
  },
  {
   "cell_type": "code",
   "execution_count": null,
   "metadata": {},
   "outputs": [],
   "source": [
    "# clinic data\n",
    "clinic1 = Path('/datasets/clinic1')\n",
    "clinic2 = Path('/datasets/clinic2')\n",
    "clinic3 = Path('/datasets/clinic3')\n",
    "clinic4 = Path('/datasets/clinic4')\n",
    "root_dirs = [clinic1, clinic2, clinic3, clinic4]\n",
    "# sfu data\n",
    "sfu = Path('/datasets/sfu/BlastsOnline')"
   ]
  },
  {
   "cell_type": "code",
   "execution_count": null,
   "metadata": {},
   "outputs": [],
   "source": [
    "sfu_dataset_train = SFUDataset(sfu.joinpath('train'), use_augmentations=True,\n",
    "                               mask=SFU_MASK, add_masks=ADD_MASKS, transform=TRANSFORM)\n",
    "\n",
    "datasets_train = [sfu_dataset_train]\n",
    "# datasets_train = []\n",
    "# for root_dir in root_dirs:\n",
    "#     dataset = ClinicDataset(root_dir.joinpath('train'), use_augmentations=False,\n",
    "#                               mask=CLINIC_MASK, transform=TRANSFORM)\n",
    "#     datasets_train.append(dataset)\n",
    "\n",
    "dataloader_train = data.DataLoader(dataset=data.ConcatDataset(datasets_train), batch_size=batch_size, shuffle=True)"
   ]
  },
  {
   "cell_type": "code",
   "execution_count": null,
   "metadata": {},
   "outputs": [],
   "source": [
    "sfu_dataset_valid = SFUDataset(sfu.joinpath('valid'), use_augmentations=False,\n",
    "                               mask=SFU_MASK, add_masks=ADD_MASKS, transform=TRANSFORM)\n",
    "\n",
    "datasets_valid = [sfu_dataset_valid]\n",
    "# datasets_valid = []\n",
    "# for root_dir in root_dirs:\n",
    "#     dataset = ClinicDataset(root_dir.joinpath('valid'), use_augmentations=False,\n",
    "#                               mask=CLINIC_MASK, transform=TRANSFORM)\n",
    "#     datasets_valid.append(dataset)\n",
    "\n",
    "dataloader_valid = data.DataLoader(dataset=data.ConcatDataset(datasets_valid), batch_size=10, shuffle=False)"
   ]
  },
  {
   "cell_type": "code",
   "execution_count": null,
   "metadata": {},
   "outputs": [],
   "source": [
    "sfu_dataset_test = SFUDataset(sfu.joinpath('test'), use_augmentations=False,\n",
    "                               mask=SFU_MASK, add_masks=ADD_MASKS, transform=TRANSFORM)\n",
    "\n",
    "datasets_test = [sfu_dataset_test]\n",
    "# datasets_test = []\n",
    "# for root_dir in root_dirs:\n",
    "#     dataset = ClinicDataset(root_dir.joinpath('test'), use_augmentations=False,\n",
    "#                               mask=CLINIC_MASK, transform=TRANSFORM)\n",
    "#     datasets_test.append(dataset)\n",
    "\n",
    "dataloader_test = data.DataLoader(dataset=data.ConcatDataset(datasets_test), batch_size=10, shuffle=False)"
   ]
  },
  {
   "cell_type": "code",
   "execution_count": null,
   "metadata": {},
   "outputs": [],
   "source": [
    "c_white = colors.colorConverter.to_rgba('white',alpha = 0)\n",
    "c_red= colors.colorConverter.to_rgba('red', alpha = 1)\n",
    "c_blue = colors.colorConverter.to_rgba('blue', alpha = 1)\n",
    "c_green = colors.colorConverter.to_rgba('green', alpha = 1)\n",
    "c_gray = colors.colorConverter.to_rgba('gray', alpha = 1)\n",
    "c_khaki = colors.colorConverter.to_rgba('khaki', alpha = 1)\n",
    "cmap_red = colors.LinearSegmentedColormap.from_list('rb_cmap', [c_white,c_red], 512)\n",
    "cmap_blue = colors.LinearSegmentedColormap.from_list('rb_cmap', [c_white,c_blue], 512)\n",
    "cmap_green = colors.LinearSegmentedColormap.from_list('rb_cmap', [c_white,c_green], 512)\n",
    "cmap_gray = colors.LinearSegmentedColormap.from_list('rb_cmap', [c_white,c_gray], 512)\n",
    "cmap_khaki = colors.LinearSegmentedColormap.from_list('rb_cmap', [c_white,c_khaki], 512)\n",
    "colormaps = [cmap_red, cmap_green, cmap_blue, cmap_gray, cmap_khaki]"
   ]
  },
  {
   "cell_type": "code",
   "execution_count": null,
   "metadata": {},
   "outputs": [],
   "source": [
    "x, y, name = next(iter(dataloader_train))\n",
    "\n",
    "print(f'x = shape: {x.shape}; type: {x.dtype}')\n",
    "print(f'x = min: {x.min()}; max: {x.max()}')\n",
    "print(f'y = shape: {y.shape}; class: {y.unique()}; type: {y.dtype}')\n",
    "\n",
    "id_ = 0\n",
    "f, axarr = plt.subplots(1, 2)\n",
    "axarr[0].imshow(x[id_].permute(1, 2, 0), cmap='gray')\n",
    "if y.shape[1] == 5:\n",
    "    axarr[1].imshow(y[id_][0], cmap=cmap_red)\n",
    "    axarr[1].imshow(y[id_][1], cmap=cmap_green)\n",
    "    axarr[1].imshow(y[id_][2], cmap=cmap_blue)\n",
    "    axarr[1].imshow(y[id_][3], cmap=cmap_gray)\n",
    "    axarr[1].imshow(y[id_][4], cmap=cmap_khaki)\n",
    "else:\n",
    "    axarr[1].imshow(y[0].permute(1, 2, 0))\n",
    "\n",
    "axarr[0].set_title('Image')\n",
    "axarr[1].set_title('5 Channel GT Mask')\n",
    "plt.show()"
   ]
  },
  {
   "cell_type": "code",
   "execution_count": null,
   "metadata": {},
   "outputs": [],
   "source": [
    "config = {\n",
    "    'learning_rate': lr,\n",
    "    'epochs': n_epochs,\n",
    "    'batch_size': batch_size,\n",
    "    'channels_out': channels_out,\n",
    "    'n_blocks': n_blocks,\n",
    "    'start_filters': start_filters,\n",
    "    'dice_weight': dice_weight,\n",
    "    'smooth': smooth,\n",
    "    'mask': SFU_MASK,\n",
    "    'inception': 'fc',\n",
    "    'loss': 'dice_loss+BCE',\n",
    "    'activation': 'relu',\n",
    "    'normalization': 'batch',\n",
    "}\n",
    "wandb.init(project='PLACEHOLDER', entity='PLACEHOLDER', group=f'PLACEHOLDER',\n",
    "            config=config, reinit=True)"
   ]
  },
  {
   "cell_type": "code",
   "execution_count": null,
   "metadata": {},
   "outputs": [],
   "source": [
    "model_save_path = Path('PLACE_HOLDER')"
   ]
  },
  {
   "cell_type": "code",
   "execution_count": null,
   "metadata": {},
   "outputs": [],
   "source": [
    "incept_unet = torch.load(model_save_path)"
   ]
  },
  {
   "cell_type": "code",
   "execution_count": null,
   "metadata": {},
   "outputs": [],
   "source": [
    "summary(incept_unet, (1, 288, 288))"
   ]
  },
  {
   "cell_type": "code",
   "execution_count": null,
   "metadata": {},
   "outputs": [],
   "source": [
    "incept_unet = InceptionedUNet(1, channels_out, IMG_SIZE, batch_size, n_blocks=n_blocks,\n",
    "                              start_filters=start_filters, incept_type='fc', fc_size='full',\n",
    "                              final_activation='sigmoid', normalization='batch',)\n",
    "incept_unet.to(device)\n",
    "None"
   ]
  },
  {
   "cell_type": "code",
   "execution_count": null,
   "metadata": {},
   "outputs": [],
   "source": [
    "loss_fn = DicePlusBCELoss(dice_weight, smooth, rescale=False)\n",
    "optimizer = torch.optim.Adam(incept_unet.parameters(), lr=lr)"
   ]
  },
  {
   "cell_type": "code",
   "execution_count": null,
   "metadata": {},
   "outputs": [],
   "source": [
    "trainer = Trainer(incept_unet, loss_fn, optimizer, n_epochs, device,\n",
    "                  dataloader_train, dataloader_valid, dataloader_test, notebook=True)"
   ]
  },
  {
   "cell_type": "code",
   "execution_count": null,
   "metadata": {},
   "outputs": [],
   "source": [
    "trainer.model_train(log=True)"
   ]
  },
  {
   "cell_type": "code",
   "execution_count": null,
   "metadata": {},
   "outputs": [],
   "source": [
    "mean_score = False\n",
    "trainer.thresh = 0.55\n",
    "trainer.metrics = ['IoU', 'DSC', 'VS', 'RVD']\n",
    "scores = trainer.model_eval(data_type='test', plot=True, display_name=True, mean_score=mean_score)"
   ]
  },
  {
   "cell_type": "code",
   "execution_count": null,
   "metadata": {},
   "outputs": [],
   "source": [
    "if mean_score:\n",
    "    for key, value in scores.items():\n",
    "        print(f'{key}: {np.mean(value)}')\n",
    "        wandb.log({key.lower(): np.mean(value)})\n",
    "if not mean_score:\n",
    "    for key, value in scores.items():\n",
    "        ch_1 = [v[0] for v in value]\n",
    "        ch_2 = [v[1] for v in value]\n",
    "        ch_3 = [v[2] for v in value]\n",
    "        ch_4 = [v[3] for v in value]\n",
    "        ch_5 = [v[4] for v in value]\n",
    "        print(f'{key} ICM: {np.mean(ch_1)}')\n",
    "        print(f'{key} TE: {np.mean(ch_2)}')\n",
    "        print(f'{key} ZP: {np.mean(ch_3)}')\n",
    "        print(f'{key} Background: {np.mean(ch_4)}')\n",
    "        print(f'{key} Blastocoel: {np.mean(ch_5)}')"
   ]
  },
  {
   "cell_type": "code",
   "execution_count": null,
   "metadata": {},
   "outputs": [],
   "source": [
    "torch.save(incept_unet, model_save_path)"
   ]
  },
  {
   "cell_type": "code",
   "execution_count": null,
   "metadata": {},
   "outputs": [],
   "source": []
  }
 ],
 "metadata": {
  "kernelspec": {
   "display_name": "Python 3.8.10 64-bit",
   "language": "python",
   "name": "python3"
  },
  "language_info": {
   "codemirror_mode": {
    "name": "ipython",
    "version": 3
   },
   "file_extension": ".py",
   "mimetype": "text/x-python",
   "name": "python",
   "nbconvert_exporter": "python",
   "pygments_lexer": "ipython3",
   "version": "3.8.10"
  },
  "orig_nbformat": 4,
  "vscode": {
   "interpreter": {
    "hash": "31f2aee4e71d21fbe5cf8b01ff0e069b9275f58929596ceb00d14d90e3e16cd6"
   }
  }
 },
 "nbformat": 4,
 "nbformat_minor": 2
}
